{
 "cells": [
  {
   "cell_type": "code",
   "execution_count": 31,
   "metadata": {},
   "outputs": [],
   "source": [
    "import requests\n",
    "import tkinter as tk\n",
    "from tkinter import ttk\n",
    "from tkinter import *\n",
    "from tkinter.ttk import Treeview\n",
    "import tkinter.messagebox as tkMessageBox\n",
    "import tksheet\n",
    "import sqlite3\n",
    "import pandas as pd\n",
    "import threading\n",
    "import newsapi\n",
    "from newsapi.newsapi_client import NewsApiClient"
   ]
  },
  {
   "cell_type": "code",
   "execution_count": 32,
   "metadata": {},
   "outputs": [
    {
     "data": {
      "text/plain": [
       "''"
      ]
     },
     "execution_count": 32,
     "metadata": {},
     "output_type": "execute_result"
    }
   ],
   "source": [
    "root = Tk()\n",
    "root.title(\"News API System\")\n",
    "screen_width = root.winfo_screenwidth()\n",
    "screen_height = root.winfo_screenheight()\n",
    "width = 900\n",
    "height = 600\n",
    "x = (screen_width/2) - (width/2)\n",
    "y = (screen_height/2) - (height/2)\n",
    "root.geometry('%dx%d+%d+%d' % (width, height, x, y))\n",
    "root.resizable(0, 0)\n"
   ]
  },
  {
   "cell_type": "code",
   "execution_count": 33,
   "metadata": {},
   "outputs": [],
   "source": [
    "def get_articles_sw():\n",
    "    newsapi = NewsApiClient(api_key='7c98b46f4fa64675a85062660862fcc6')\n",
    "    all_articles = newsapi.get_everything(q='software engineering',language='en',page_size=20)\n",
    "    articles_sw = all_articles['articles']\n",
    "    df_sw = pd.DataFrame(articles_sw)\n",
    "    df_sw.drop('content', axis=1, inplace=True)\n",
    "    df_sw.drop('source', axis=1, inplace=True)\n",
    "    return articles_sw, df_sw"
   ]
  },
  {
   "cell_type": "code",
   "execution_count": 34,
   "metadata": {},
   "outputs": [],
   "source": [
    "def get_articles_python():\n",
    "    newsapi = NewsApiClient(api_key='7c98b46f4fa64675a85062660862fcc6')\n",
    "    all_articles = newsapi.get_everything(q='python',language='en',page_size=20)\n",
    "    articles_py = all_articles['articles']\n",
    "    df_py = pd.DataFrame(articles_py)\n",
    "    df_py.drop('content', axis=1, inplace=True)\n",
    "    df_py.drop('source', axis=1, inplace=True)\n",
    "    return articles_py, df_py"
   ]
  },
  {
   "cell_type": "code",
   "execution_count": 35,
   "metadata": {},
   "outputs": [],
   "source": [
    "def create_tables():\n",
    "    conn = sqlite3.connect('newsdata.db')\n",
    "    c = conn.cursor()\n",
    "    c.execute('CREATE TABLE IF NOT EXISTS articleDetailSw(author TEXT,title TEXT,description TEXT, URL TEXT,urlToImage TEXT, publishedAt TEXT)')\n",
    "    c.execute('CREATE TABLE IF NOT EXISTS articleDetailPy(author TEXT,title TEXT,description TEXT, URL TEXT,urlToImage TEXT, publishedAt TEXT)')"
   ]
  },
  {
   "cell_type": "code",
   "execution_count": 36,
   "metadata": {},
   "outputs": [],
   "source": [
    "def data_entry(df_sw,df_py):\n",
    "    conn = sqlite3.connect('newsdata.db')\n",
    "    c = conn.cursor()\n",
    "    df_sw.to_sql('articleDetailSw', conn, if_exists = 'append', chunksize = 1000,index=False)\n",
    "    df_py.to_sql('articleDetailPy', conn, if_exists = 'append', chunksize = 1000,index=False)\n",
    "    conn.commit()\n",
    "    conn.close()"
   ]
  },
  {
   "cell_type": "code",
   "execution_count": 37,
   "metadata": {},
   "outputs": [],
   "source": [
    "def read_from_db():\n",
    "    my_conn = sqlite3.connect('newsdata.db')\n",
    "    c = my_conn.cursor()\n",
    "    my_w = tk.Tk()\n",
    "    my_w.geometry(\"400x250\") \n",
    "\n",
    "    r_set=my_conn.execute('''SELECT * from articleDetailSw''');\n",
    "    i=0 # row value inside the loop \n",
    "    for article in r_set: \n",
    "        for j in range(len(article)):\n",
    "            e = Entry(my_w, width=40, fg='blue') \n",
    "            e.grid(row=i, column=j) \n",
    "            e.insert(END, article[j])\n",
    "        i=i+1"
   ]
  },
  {
   "cell_type": "code",
   "execution_count": 38,
   "metadata": {},
   "outputs": [],
   "source": [
    "def gui_str():\n",
    "    articles_py1,df_py1 = get_articles_python()\n",
    "    articles_sw1,df_sw1 = get_articles_sw()\n",
    "    Top = Frame(root, width=700, height=50, bd=8, relief=\"raise\")\n",
    "    Top.pack(side=TOP)\n",
    "    Button_Group=Frame(root, width=700, height=50)\n",
    "    Button_Group.pack(side=TOP)\n",
    "    Buttons = Frame(Button_Group, width=200, height=50)\n",
    "    Buttons.pack(side=LEFT)\n",
    "    Buttons1 = Frame(Button_Group, width=500, height=50)\n",
    "    Buttons1.pack(side=RIGHT)\n",
    "    Body = Frame(root, width=700, height=300, bd=8, relief=\"raise\")\n",
    "    Body.pack(side=BOTTOM)\n",
    "\n",
    "\n",
    "    #==================================LABEL WIDGET=======================================\n",
    "    txt_title = Label(Top, width=300, font=('arial', 24), text = \"News API System\")\n",
    "    txt_title.pack()\n",
    "\n",
    "        #==================================BUTTONS WIDGET=====================================\n",
    "    btn_display1 = Button(Buttons, width=15, text=\"Get Data of topic 1\", command=get_articles_sw)\n",
    "    btn_display2 = Button(Buttons, width=15, text=\"Get Data of topic 2\", command=get_articles_python)\n",
    "    btn_display5 = Button(Buttons, width=15, text=\"Create tables\", command=create_tables)\n",
    "    btn_display3 = Button(Buttons, width=15, text=\"Insert Data\", command=data_entry(df_sw1,df_py1))\n",
    "    btn_display4 = Button(Buttons, width=15, text=\"Display Data\", command=read_from_db)\n",
    "    btn_display1.pack(side=LEFT)\n",
    "    btn_display2.pack(side=LEFT)\n",
    "    btn_display5.pack(side=LEFT)\n",
    "    btn_display3.pack(side=LEFT)\n",
    "    btn_display4.pack(side=LEFT)\n",
    "    \n",
    "    root.mainloop()"
   ]
  },
  {
   "cell_type": "code",
   "execution_count": 39,
   "metadata": {},
   "outputs": [],
   "source": [
    "def main():\n",
    "    gui_str()"
   ]
  },
  {
   "cell_type": "code",
   "execution_count": 40,
   "metadata": {
    "scrolled": true
   },
   "outputs": [
    {
     "name": "stderr",
     "output_type": "stream",
     "text": [
      "Exception in Tkinter callback\n",
      "Traceback (most recent call last):\n",
      "  File \"C:\\Users\\Banana\\anaconda3\\lib\\tkinter\\__init__.py\", line 1705, in __call__\n",
      "    return self.func(*args)\n",
      "  File \"<ipython-input-37-3b8716cfabac>\", line 13, in read_from_db\n",
      "    e.insert(END, article[j])\n",
      "  File \"C:\\Users\\Banana\\anaconda3\\lib\\tkinter\\__init__.py\", line 2692, in insert\n",
      "    self.tk.call(self._w, 'insert', index, string)\n",
      "_tkinter.TclError: wrong # args: should be \".!entry7 insert index text\"\n"
     ]
    }
   ],
   "source": [
    "if __name__ == \"__main__\":\n",
    "    main()"
   ]
  },
  {
   "cell_type": "code",
   "execution_count": null,
   "metadata": {},
   "outputs": [],
   "source": []
  }
 ],
 "metadata": {
  "kernelspec": {
   "display_name": "Python 3",
   "language": "python",
   "name": "python3"
  },
  "language_info": {
   "codemirror_mode": {
    "name": "ipython",
    "version": 3
   },
   "file_extension": ".py",
   "mimetype": "text/x-python",
   "name": "python",
   "nbconvert_exporter": "python",
   "pygments_lexer": "ipython3",
   "version": "3.7.6"
  }
 },
 "nbformat": 4,
 "nbformat_minor": 4
}
